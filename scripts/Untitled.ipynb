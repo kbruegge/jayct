{
 "cells": [
  {
   "cell_type": "code",
   "execution_count": 1,
   "metadata": {},
   "outputs": [],
   "source": [
    "import pandas as pd\n",
    "import matplotlib.pyplot as plt\n",
    "import numpy as np\n",
    "from scipy.stats import binned_statistic\n",
    "from astropy.coordinates import (\n",
    "    spherical_to_cartesian,\n",
    "    cartesian_to_spherical,\n",
    ")\n",
    "import astropy.units as u"
   ]
  },
  {
   "cell_type": "code",
   "execution_count": 2,
   "metadata": {},
   "outputs": [],
   "source": [
    "def make_default_cta_binning(e_min=0.02 * u.TeV, e_max=200 * u.TeV, centering='log', overflow=False, bins_per_decade=5):\n",
    "\n",
    "    bin_edges = np.logspace(np.log10(0.002), np.log10(2000), 6 * bins_per_decade + 1)\n",
    "    idx = np.searchsorted(bin_edges, [e_min.to_value(u.TeV), e_max.to_value(u.TeV)])\n",
    "    max_idx = min(idx[1] + 1, len(bin_edges) - 1)\n",
    "    bin_edges = bin_edges[idx[0]:max_idx]\n",
    "    if overflow:\n",
    "        bin_edges = np.append(bin_edges, 10000)\n",
    "        bin_edges = np.append(0, bin_edges)\n",
    "\n",
    "    if centering == 'log':\n",
    "        bin_centers = np.sqrt(bin_edges[:-1] * bin_edges[1:])\n",
    "    else:\n",
    "        bin_centers = 0.5 * (bin_edges[:-1] + bin_edges[1:])\n",
    "    bin_widths = np.diff(bin_edges)\n",
    "\n",
    "    return bin_edges * u.TeV, bin_centers * u.TeV, bin_widths * u.TeV\n"
   ]
  },
  {
   "cell_type": "code",
   "execution_count": 3,
   "metadata": {},
   "outputs": [],
   "source": [
    "from astropy.coordinates import Angle\n",
    "from astropy.coordinates.angle_utilities import angular_separation\n",
    "import astropy.units as u\n",
    "\n",
    "\n",
    "def calculate_distance_to_true_source_position(df):\n",
    "    source_az = Angle(df.mc_az.values * u.rad).wrap_at(180 * u.deg)\n",
    "    source_alt = Angle(df.mc_alt.values * u.rad)\n",
    "\n",
    "    az = Angle(df.az.values * u.rad).wrap_at(180 * u.deg)\n",
    "    alt = Angle(df.alt.values * u.rad)\n",
    "\n",
    "    distance = angular_separation(source_az, source_alt, az, alt).to(u.deg)\n",
    "    return distance"
   ]
  },
  {
   "cell_type": "code",
   "execution_count": null,
   "metadata": {},
   "outputs": [],
   "source": []
  },
  {
   "cell_type": "code",
   "execution_count": 40,
   "metadata": {},
   "outputs": [
    {
     "name": "stdout",
     "output_type": "stream",
     "text": [
      "4873\n",
      "Mine:\n",
      "69.86565249383307 180.21563335436545\n",
      "Theirs:\n",
      "69.98194480689327 180.1881200719291\n"
     ]
    },
    {
     "data": {
      "image/png": "[encoded data removed]",
      "text/plain": [
       "<Figure size 1008x432 with 2 Axes>"
      ]
     },
     "metadata": {
      "needs_background": "light"
     },
     "output_type": "display_data"
    }
   ],
   "source": [
    "df = pd.read_csv('../gamma_dl3.csv').dropna()\n",
    "print(len(df))\n",
    "\n",
    "# _, lat, lon = cartesian_to_spherical(df.x.values, df.y.values, df.z.values)\n",
    "\n",
    "# df['alt'] = lat.rad\n",
    "# df['az'] = lon.rad\n",
    "\n",
    "distance = calculate_distance_to_true_source_position(df)\n",
    "# print(distance.std(), distance.mean())\n",
    "\n",
    "print('Mine:')\n",
    "print(lat.deg.mean(), lon.deg.mean())\n",
    "# print(df.mc_alt.mean(), df.mc_alt.mean())\n",
    "\n",
    "print('Theirs:')\n",
    "print(np.rad2deg(df.mc_alt).mean(), np.rad2deg(df.mc_az.mean()))\n",
    "\n",
    "bins  =np.linspace(2, 4, 100)\n",
    "_, [ax1, ax2] = plt.subplots(1, 2, figsize=(14, 6))\n",
    "ax1.hist(df.az, bins=bins, histtype='step')\n",
    "ax1.hist(df.mc_az, bins=bins, histtype='step', label='truth')\n",
    "ax1.legend()\n",
    "\n",
    "bins  =np.linspace(1, 1.5, 100)\n",
    "ax2.hist(df.alt, bins=bins, histtype='step')\n",
    "ax2.hist(df.mc_alt, bins=bins, histtype='step', label='truth')\n",
    "ax2.legend()\n",
    "None"
   ]
  },
  {
   "cell_type": "code",
   "execution_count": 41,
   "metadata": {},
   "outputs": [
    {
     "data": {
      "text/plain": [
       "0.8776662379304038"
      ]
     },
     "execution_count": 41,
     "metadata": {},
     "output_type": "execute_result"
    },
    {
     "data": {
      "image/png": "[encoded data removed]",
      "text/plain": [
       "<Figure size 432x288 with 1 Axes>"
      ]
     },
     "metadata": {
      "needs_background": "light"
     },
     "output_type": "display_data"
    }
   ],
   "source": [
    "plt.hist(distance.to_value('deg'), bins=np.linspace(0, 15, 100))\n",
    "distance.to_value('deg').mean()"
   ]
  },
  {
   "cell_type": "code",
   "execution_count": 42,
   "metadata": {},
   "outputs": [
    {
     "data": {
      "image/png": "[encoded data removed]",
      "text/plain": [
       "<Figure size 432x288 with 1 Axes>"
      ]
     },
     "metadata": {
      "needs_background": "light"
     },
     "output_type": "display_data"
    }
   ],
   "source": [
    "bins, _, _ = make_default_cta_binning(bins_per_decade=3)\n",
    "b_68, bin_edges, _ = binned_statistic(df.mc_energy, distance.to_value('deg'), statistic=lambda y: np.nanpercentile(y, 68), bins=bins)\n",
    "plt.hlines(b_68, bin_edges[:-1], bin_edges[1:])\n",
    "plt.xscale('log')"
   ]
  },
  {
   "cell_type": "code",
   "execution_count": null,
   "metadata": {},
   "outputs": [],
   "source": []
  },
  {
   "cell_type": "code",
   "execution_count": null,
   "metadata": {},
   "outputs": [],
   "source": []
  },
  {
   "cell_type": "code",
   "execution_count": 39,
   "metadata": {},
   "outputs": [],
   "source": [
    "from ctapipe.coordinates import CameraFrame, TelescopeFrame\n",
    "from astropy.coordinates import SkyCoord, AltAz"
   ]
  },
  {
   "cell_type": "code",
   "execution_count": null,
   "metadata": {},
   "outputs": [],
   "source": []
  },
  {
   "cell_type": "code",
   "execution_count": 723,
   "metadata": {},
   "outputs": [],
   "source": [
    "from scipy.spatial.transform import Rotation as R\n",
    "\n",
    "def to_horizontal(camera_coord, pointingPosition):\n",
    "    \n",
    "    pzd = 90 * u.deg - pointing.alt\n",
    "\n",
    "    pzd = pzd.rad\n",
    "    paz = pointing.az.rad\n",
    "    \n",
    "    x = camera_coord.cartesian.x\n",
    "    y = camera_coord.cartesian.y\n",
    "    \n",
    "    fl = camera_coord.focal_length\n",
    "    \n",
    "    z = 1 / np.sqrt(1 + (x / fl)**2 + (y / fl)**2)\n",
    "\n",
    "    x = -x * z / fl;\n",
    "    y = y * z / fl;\n",
    "    \n",
    "    rAz = R.from_euler('z', -paz)\n",
    "    rZd = R.from_euler('y', -pzd)\n",
    "       # Rotation rotZAz = new Rotation(new Vector3D(0.0, 0.0, 1.0), -paz, RotationConvention.VECTOR_OPERATOR);\n",
    "#     Rotation rotYZd = new Rotation(new Vector3D(0.0, 1.0, 0.0), -pzd, RotationConvention.VECTOR_OPERATOR);\n",
    "    \n",
    "    rotVec = rAz.inv().apply(rZd.inv().apply([x, y, z])) \n",
    "#     Vector3D rotVec = rotZAz.applyInverseTo(rotYZd.applyInverseTo(vec));\n",
    "    \n",
    "    rx, ry, rz = rotVec\n",
    "    zd = np.arccos(rz);\n",
    "    az = np.arctan2(ry, rx);\n",
    "\n",
    "#     return 90 * u.deg - zd * u.rad, ((az + 2*np.pi) % (2*np.pi)) * u.rad\n",
    "    if az < 0:\n",
    "        az += 2*np.pi\n",
    "    return 90 * u.deg - zd * u.rad, (az) * u.rad"
   ]
  },
  {
   "cell_type": "code",
   "execution_count": 732,
   "metadata": {},
   "outputs": [
    {
     "data": {
      "text/plain": [
       "<SkyCoord (AltAz: obstime=None, location=None, pressure=0.0 hPa, temperature=0.0 deg_C, relative_humidity=0.0, obswl=1.0 micron): (az, alt) in deg\n",
       "    (174.28993439, 71.70660003)>"
      ]
     },
     "execution_count": 732,
     "metadata": {},
     "output_type": "execute_result"
    }
   ],
   "source": [
    "pointing = SkyCoord(\n",
    "    alt= 70 * u.deg,\n",
    "    az=180 * u.deg,\n",
    "    frame=AltAz(),\n",
    ")\n",
    "\n",
    "camera_frame = CameraFrame(\n",
    "    focal_length=16 * u.m,\n",
    "    telescope_pointing=pointing\n",
    ")\n",
    "\n",
    "cog_coord = SkyCoord(\n",
    "    y=-0.5 * u.m,\n",
    "    x=0.5 * u.m,\n",
    "    frame=camera_frame,\n",
    ")\n",
    "cog_coord.transform_to(AltAz())"
   ]
  },
  {
   "cell_type": "code",
   "execution_count": 733,
   "metadata": {},
   "outputs": [
    {
     "data": {
      "text/plain": [
       "(18.294794414385066, 174.2922146614087)"
      ]
     },
     "execution_count": 733,
     "metadata": {},
     "output_type": "execute_result"
    }
   ],
   "source": [
    "a, b = to_horizontal(cog_coord, pointing)\n",
    "90 - a.to_value('deg'), b.to_value('deg')\n",
    "# a, b"
   ]
  },
  {
   "cell_type": "code",
   "execution_count": null,
   "metadata": {},
   "outputs": [],
   "source": []
  },
  {
   "cell_type": "code",
   "execution_count": null,
   "metadata": {},
   "outputs": [],
   "source": []
  }
 ],
 "metadata": {
  "kernelspec": {
   "display_name": "Python 3",
   "language": "python",
   "name": "python3"
  },
  "language_info": {
   "codemirror_mode": {
    "name": "ipython",
    "version": 3
   },
   "file_extension": ".py",
   "mimetype": "text/x-python",
   "name": "python",
   "nbconvert_exporter": "python",
   "pygments_lexer": "ipython3",
   "version": "3.7.2"
  }
 },
 "nbformat": 4,
 "nbformat_minor": 2
}
